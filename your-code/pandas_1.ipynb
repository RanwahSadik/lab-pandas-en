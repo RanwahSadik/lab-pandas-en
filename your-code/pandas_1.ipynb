{
 "cells": [
  {
   "cell_type": "markdown",
   "metadata": {},
   "source": [
    "# Introduction to Pandas Lab\n",
    "\n",
    "Complete the following set of exercises to solidify your knowledge of Pandas fundamentals."
   ]
  },
  {
   "cell_type": "markdown",
   "metadata": {},
   "source": [
    "### 1. Import Numpy and Pandas and alias them to `np` and `pd` respectively."
   ]
  },
  {
   "cell_type": "code",
   "execution_count": 1,
   "metadata": {},
   "outputs": [],
   "source": [
    "import pandas as pd\n",
    "import numpy as np"
   ]
  },
  {
   "cell_type": "markdown",
   "metadata": {},
   "source": [
    "### 2. Create a Pandas Series containing the elements of the list below."
   ]
  },
  {
   "cell_type": "code",
   "execution_count": 3,
   "metadata": {},
   "outputs": [],
   "source": [
    "lst = [5.7, 75.2, 74.4, 84.0, 66.5, 66.3, 55.8, 75.7, 29.1, 43.7]"
   ]
  },
  {
   "cell_type": "code",
   "execution_count": 4,
   "metadata": {},
   "outputs": [
    {
     "name": "stdout",
     "output_type": "stream",
     "text": [
      "0     5.7\n",
      "1    75.2\n",
      "2    74.4\n",
      "3    84.0\n",
      "4    66.5\n",
      "5    66.3\n",
      "6    55.8\n",
      "7    75.7\n",
      "8    29.1\n",
      "9    43.7\n",
      "dtype: float64\n"
     ]
    }
   ],
   "source": [
    "# your code here\n",
    "series = pd.Series(lst)\n",
    "\n",
    "print(series)"
   ]
  },
  {
   "cell_type": "markdown",
   "metadata": {},
   "source": [
    "### 3. Use indexing to return the third value in the Series above.\n",
    "\n",
    "*Hint: Remember that indexing begins at 0.*"
   ]
  },
  {
   "cell_type": "code",
   "execution_count": 5,
   "metadata": {},
   "outputs": [
    {
     "name": "stdout",
     "output_type": "stream",
     "text": [
      "74.4\n"
     ]
    }
   ],
   "source": [
    "# your code here\n",
    "x = series[2]\n",
    "\n",
    "print(x)"
   ]
  },
  {
   "cell_type": "markdown",
   "metadata": {},
   "source": [
    "### 4. Create a Pandas DataFrame from the list of lists below. Each sublist should be represented as a row."
   ]
  },
  {
   "cell_type": "code",
   "execution_count": 7,
   "metadata": {},
   "outputs": [],
   "source": [
    "b = [[53.1, 95.0, 67.5, 35.0, 78.4],\n",
    "     [61.3, 40.8, 30.8, 37.8, 87.6],\n",
    "     [20.6, 73.2, 44.2, 14.6, 91.8],\n",
    "     [57.4, 0.1, 96.1, 4.2, 69.5],\n",
    "     [83.6, 20.5, 85.4, 22.8, 35.9],\n",
    "     [49.0, 69.0, 0.1, 31.8, 89.1],\n",
    "     [23.3, 40.7, 95.0, 83.8, 26.9],\n",
    "     [27.6, 26.4, 53.8, 88.8, 68.5],\n",
    "     [96.6, 96.4, 53.4, 72.4, 50.1],\n",
    "     [73.7, 39.0, 43.2, 81.6, 34.7]]"
   ]
  },
  {
   "cell_type": "code",
   "execution_count": 8,
   "metadata": {},
   "outputs": [
    {
     "name": "stdout",
     "output_type": "stream",
     "text": [
      "      0     1     2     3     4\n",
      "0  53.1  95.0  67.5  35.0  78.4\n",
      "1  61.3  40.8  30.8  37.8  87.6\n",
      "2  20.6  73.2  44.2  14.6  91.8\n",
      "3  57.4   0.1  96.1   4.2  69.5\n",
      "4  83.6  20.5  85.4  22.8  35.9\n",
      "5  49.0  69.0   0.1  31.8  89.1\n",
      "6  23.3  40.7  95.0  83.8  26.9\n",
      "7  27.6  26.4  53.8  88.8  68.5\n",
      "8  96.6  96.4  53.4  72.4  50.1\n",
      "9  73.7  39.0  43.2  81.6  34.7\n"
     ]
    }
   ],
   "source": [
    "# your code here\n",
    "\n",
    "df = pd.DataFrame(b)\n",
    "\n",
    "print(df)\n"
   ]
  },
  {
   "cell_type": "markdown",
   "metadata": {},
   "source": [
    "### 5. Rename the data frame columns based on the names in the list below."
   ]
  },
  {
   "cell_type": "code",
   "execution_count": 10,
   "metadata": {},
   "outputs": [],
   "source": [
    "Colnames = ['Score_1','Score_2','Score_3','Score_4','Score_5']"
   ]
  },
  {
   "cell_type": "code",
   "execution_count": 11,
   "metadata": {},
   "outputs": [
    {
     "name": "stdout",
     "output_type": "stream",
     "text": [
      "   Score_1  Score_2  Score_3  Score_4  Score_5\n",
      "0     53.1     95.0     67.5     35.0     78.4\n",
      "1     61.3     40.8     30.8     37.8     87.6\n",
      "2     20.6     73.2     44.2     14.6     91.8\n",
      "3     57.4      0.1     96.1      4.2     69.5\n",
      "4     83.6     20.5     85.4     22.8     35.9\n",
      "5     49.0     69.0      0.1     31.8     89.1\n",
      "6     23.3     40.7     95.0     83.8     26.9\n",
      "7     27.6     26.4     53.8     88.8     68.5\n",
      "8     96.6     96.4     53.4     72.4     50.1\n",
      "9     73.7     39.0     43.2     81.6     34.7\n"
     ]
    }
   ],
   "source": [
    "df.columns = Colnames  \n",
    "print(df)"
   ]
  },
  {
   "cell_type": "markdown",
   "metadata": {},
   "source": [
    "### 6. Create a subset of this data frame that contains only the Score 1, 3, and 5 columns."
   ]
  },
  {
   "cell_type": "code",
   "execution_count": 12,
   "metadata": {},
   "outputs": [
    {
     "name": "stdout",
     "output_type": "stream",
     "text": [
      "   Score_1  Score_3  Score_5\n",
      "0     53.1     67.5     78.4\n",
      "1     61.3     30.8     87.6\n",
      "2     20.6     44.2     91.8\n",
      "3     57.4     96.1     69.5\n",
      "4     83.6     85.4     35.9\n",
      "5     49.0      0.1     89.1\n",
      "6     23.3     95.0     26.9\n",
      "7     27.6     53.8     68.5\n",
      "8     96.6     53.4     50.1\n",
      "9     73.7     43.2     34.7\n"
     ]
    }
   ],
   "source": [
    "# your code here\n",
    "df_sub = df[['Score_1', 'Score_3', 'Score_5']]\n",
    "\n",
    "print(df_sub)"
   ]
  },
  {
   "cell_type": "markdown",
   "metadata": {},
   "source": [
    "### 7. From the original data frame, calculate the average Score_3 value."
   ]
  },
  {
   "cell_type": "code",
   "execution_count": 14,
   "metadata": {},
   "outputs": [
    {
     "name": "stdout",
     "output_type": "stream",
     "text": [
      "Average: 56.95000000000001\n"
     ]
    }
   ],
   "source": [
    "# your code here\n",
    "avg_3 = df['Score_3'].mean()\n",
    "\n",
    "print(\"Average:\", avg_3)"
   ]
  },
  {
   "cell_type": "markdown",
   "metadata": {},
   "source": [
    "### 8. From the original data frame, calculate the maximum Score_4 value."
   ]
  },
  {
   "cell_type": "code",
   "execution_count": 15,
   "metadata": {},
   "outputs": [
    {
     "name": "stdout",
     "output_type": "stream",
     "text": [
      "Maximum: 88.8\n"
     ]
    }
   ],
   "source": [
    "# your code here\n",
    "max_4 = df['Score_4'].max()\n",
    "\n",
    "# Print the result\n",
    "print(\"Maximum:\", max_4)"
   ]
  },
  {
   "cell_type": "markdown",
   "metadata": {},
   "source": [
    "### 9. From the original data frame, calculate the median Score 2 value."
   ]
  },
  {
   "cell_type": "code",
   "execution_count": 16,
   "metadata": {},
   "outputs": [
    {
     "name": "stdout",
     "output_type": "stream",
     "text": [
      "Median: 40.75\n"
     ]
    }
   ],
   "source": [
    "# your code here\n",
    "median_2 = df['Score_2'].median()\n",
    "\n",
    "# Print the result\n",
    "print(\"Median:\", median_2)\n"
   ]
  },
  {
   "cell_type": "markdown",
   "metadata": {},
   "source": [
    "### 10. Create a Pandas DataFrame from the dictionary of product orders below."
   ]
  },
  {
   "cell_type": "code",
   "execution_count": 17,
   "metadata": {},
   "outputs": [],
   "source": [
    "orders = {'Description': ['LUNCH BAG APPLE DESIGN',\n",
    "  'SET OF 60 VINTAGE LEAF CAKE CASES ',\n",
    "  'RIBBON REEL STRIPES DESIGN ',\n",
    "  'WORLD WAR 2 GLIDERS ASSTD DESIGNS',\n",
    "  'PLAYING CARDS JUBILEE UNION JACK',\n",
    "  'POPCORN HOLDER',\n",
    "  'BOX OF VINTAGE ALPHABET BLOCKS',\n",
    "  'PARTY BUNTING',\n",
    "  'JAZZ HEARTS ADDRESS BOOK',\n",
    "  'SET OF 4 SANTA PLACE SETTINGS'],\n",
    " 'Quantity': [1, 24, 1, 2880, 2, 7, 1, 4, 10, 48],\n",
    " 'UnitPrice': [1.65, 0.55, 1.65, 0.18, 1.25, 0.85, 11.95, 4.95, 0.19, 1.25],\n",
    " 'Revenue': [1.65, 13.2, 1.65, 518.4, 2.5, 5.95, 11.95, 19.8, 1.9, 60.0]}"
   ]
  },
  {
   "cell_type": "code",
   "execution_count": 18,
   "metadata": {},
   "outputs": [
    {
     "name": "stdout",
     "output_type": "stream",
     "text": [
      "                          Description  Quantity  UnitPrice  Revenue\n",
      "0              LUNCH BAG APPLE DESIGN         1       1.65     1.65\n",
      "1  SET OF 60 VINTAGE LEAF CAKE CASES         24       0.55    13.20\n",
      "2         RIBBON REEL STRIPES DESIGN          1       1.65     1.65\n",
      "3   WORLD WAR 2 GLIDERS ASSTD DESIGNS      2880       0.18   518.40\n",
      "4    PLAYING CARDS JUBILEE UNION JACK         2       1.25     2.50\n",
      "5                      POPCORN HOLDER         7       0.85     5.95\n",
      "6      BOX OF VINTAGE ALPHABET BLOCKS         1      11.95    11.95\n",
      "7                       PARTY BUNTING         4       4.95    19.80\n",
      "8            JAZZ HEARTS ADDRESS BOOK        10       0.19     1.90\n",
      "9       SET OF 4 SANTA PLACE SETTINGS        48       1.25    60.00\n"
     ]
    }
   ],
   "source": [
    "# your code here\n",
    "df_orders = pd.DataFrame(orders)\n",
    "\n",
    "print(df_orders)"
   ]
  },
  {
   "cell_type": "markdown",
   "metadata": {},
   "source": [
    "### 11. Calculate the total quantity ordered and revenue generated from these orders."
   ]
  },
  {
   "cell_type": "code",
   "execution_count": 19,
   "metadata": {},
   "outputs": [
    {
     "name": "stdout",
     "output_type": "stream",
     "text": [
      "Total Quantity: 2978\n",
      "Total Revenue: 637.0\n"
     ]
    }
   ],
   "source": [
    "# your code here\n",
    "quantity = df_orders['Quantity'].sum()\n",
    "revenue = df_orders['Revenue'].sum()\n",
    "\n",
    "print(\"Total Quantity:\", quantity)\n",
    "print(\"Total Revenue:\", revenue)\n"
   ]
  },
  {
   "cell_type": "markdown",
   "metadata": {},
   "source": [
    "### 12. Obtain the prices of the most expensive and least expensive items ordered and print the difference."
   ]
  },
  {
   "cell_type": "code",
   "execution_count": 20,
   "metadata": {},
   "outputs": [
    {
     "name": "stdout",
     "output_type": "stream",
     "text": [
      "Most Expensive Price: 11.95\n",
      "Least Expensive Price: 0.18\n",
      "Price Difference: 11.77\n"
     ]
    }
   ],
   "source": [
    "# your code here\n",
    "most = df_orders['UnitPrice'].max()\n",
    "least = df_orders['UnitPrice'].min()\n",
    "\n",
    "difference = most - least\n",
    "\n",
    "print(\"Most Expensive Price:\", most)\n",
    "print(\"Least Expensive Price:\", least)\n",
    "print(\"Price Difference:\", difference)"
   ]
  },
  {
   "cell_type": "markdown",
   "metadata": {},
   "source": [
    "## Let's load another dataset for more exercisesº"
   ]
  },
  {
   "cell_type": "code",
   "execution_count": 21,
   "metadata": {},
   "outputs": [],
   "source": [
    "admissions = pd.read_csv('Admission_Predict.csv')"
   ]
  },
  {
   "cell_type": "markdown",
   "metadata": {},
   "source": [
    "Let's evaluate the dataset by looking at the `head` function."
   ]
  },
  {
   "cell_type": "code",
   "execution_count": 22,
   "metadata": {},
   "outputs": [
    {
     "data": {
      "text/html": [
       "<div>\n",
       "<style scoped>\n",
       "    .dataframe tbody tr th:only-of-type {\n",
       "        vertical-align: middle;\n",
       "    }\n",
       "\n",
       "    .dataframe tbody tr th {\n",
       "        vertical-align: top;\n",
       "    }\n",
       "\n",
       "    .dataframe thead th {\n",
       "        text-align: right;\n",
       "    }\n",
       "</style>\n",
       "<table border=\"1\" class=\"dataframe\">\n",
       "  <thead>\n",
       "    <tr style=\"text-align: right;\">\n",
       "      <th></th>\n",
       "      <th>Serial No.</th>\n",
       "      <th>GRE Score</th>\n",
       "      <th>TOEFL Score</th>\n",
       "      <th>University Rating</th>\n",
       "      <th>SOP</th>\n",
       "      <th>LOR</th>\n",
       "      <th>CGPA</th>\n",
       "      <th>Research</th>\n",
       "      <th>Chance of Admit</th>\n",
       "    </tr>\n",
       "  </thead>\n",
       "  <tbody>\n",
       "    <tr>\n",
       "      <th>0</th>\n",
       "      <td>1</td>\n",
       "      <td>337</td>\n",
       "      <td>118</td>\n",
       "      <td>4</td>\n",
       "      <td>4.5</td>\n",
       "      <td>4.5</td>\n",
       "      <td>9.65</td>\n",
       "      <td>1</td>\n",
       "      <td>0.92</td>\n",
       "    </tr>\n",
       "    <tr>\n",
       "      <th>1</th>\n",
       "      <td>2</td>\n",
       "      <td>316</td>\n",
       "      <td>104</td>\n",
       "      <td>3</td>\n",
       "      <td>3.0</td>\n",
       "      <td>3.5</td>\n",
       "      <td>8.00</td>\n",
       "      <td>1</td>\n",
       "      <td>0.72</td>\n",
       "    </tr>\n",
       "    <tr>\n",
       "      <th>2</th>\n",
       "      <td>3</td>\n",
       "      <td>322</td>\n",
       "      <td>110</td>\n",
       "      <td>3</td>\n",
       "      <td>3.5</td>\n",
       "      <td>2.5</td>\n",
       "      <td>8.67</td>\n",
       "      <td>1</td>\n",
       "      <td>0.80</td>\n",
       "    </tr>\n",
       "    <tr>\n",
       "      <th>3</th>\n",
       "      <td>4</td>\n",
       "      <td>314</td>\n",
       "      <td>103</td>\n",
       "      <td>2</td>\n",
       "      <td>2.0</td>\n",
       "      <td>3.0</td>\n",
       "      <td>8.21</td>\n",
       "      <td>0</td>\n",
       "      <td>0.65</td>\n",
       "    </tr>\n",
       "    <tr>\n",
       "      <th>4</th>\n",
       "      <td>5</td>\n",
       "      <td>330</td>\n",
       "      <td>115</td>\n",
       "      <td>5</td>\n",
       "      <td>4.5</td>\n",
       "      <td>3.0</td>\n",
       "      <td>9.34</td>\n",
       "      <td>1</td>\n",
       "      <td>0.90</td>\n",
       "    </tr>\n",
       "  </tbody>\n",
       "</table>\n",
       "</div>"
      ],
      "text/plain": [
       "   Serial No.  GRE Score  TOEFL Score  University Rating  SOP  LOR   CGPA  \\\n",
       "0           1        337          118                  4  4.5   4.5  9.65   \n",
       "1           2        316          104                  3  3.0   3.5  8.00   \n",
       "2           3        322          110                  3  3.5   2.5  8.67   \n",
       "3           4        314          103                  2  2.0   3.0  8.21   \n",
       "4           5        330          115                  5  4.5   3.0  9.34   \n",
       "\n",
       "   Research  Chance of Admit   \n",
       "0         1              0.92  \n",
       "1         1              0.72  \n",
       "2         1              0.80  \n",
       "3         0              0.65  \n",
       "4         1              0.90  "
      ]
     },
     "execution_count": 22,
     "metadata": {},
     "output_type": "execute_result"
    }
   ],
   "source": [
    "# your code here\n",
    "admissions.head()"
   ]
  },
  {
   "cell_type": "markdown",
   "metadata": {},
   "source": [
    "### 1 - Before beginning to work with this dataset and evaluating graduate admissions data, we will verify that there is no missing data in the dataset. Do this in the cell below."
   ]
  },
  {
   "cell_type": "code",
   "execution_count": 27,
   "metadata": {},
   "outputs": [
    {
     "name": "stdout",
     "output_type": "stream",
     "text": [
      "Serial No.           0\n",
      "GRE Score            0\n",
      "TOEFL Score          0\n",
      "University Rating    0\n",
      "SOP                  0\n",
      "LOR                  0\n",
      "CGPA                 0\n",
      "Research             0\n",
      "Chance of Admit      0\n",
      "dtype: int64\n"
     ]
    }
   ],
   "source": [
    "# your code here\n",
    "na = admissions.isnull().sum()\n",
    "\n",
    "print(na)\n"
   ]
  },
  {
   "cell_type": "markdown",
   "metadata": {},
   "source": [
    "###  2 -  Interestingly, there is a column that uniquely identifies the applicants. This column is the serial number column. Instead of having our own index, we should make this column our index. Do this in the cell below. Keep the column in the dataframe in addition to making it an index."
   ]
  },
  {
   "cell_type": "code",
   "execution_count": 29,
   "metadata": {},
   "outputs": [
    {
     "data": {
      "text/html": [
       "<div>\n",
       "<style scoped>\n",
       "    .dataframe tbody tr th:only-of-type {\n",
       "        vertical-align: middle;\n",
       "    }\n",
       "\n",
       "    .dataframe tbody tr th {\n",
       "        vertical-align: top;\n",
       "    }\n",
       "\n",
       "    .dataframe thead th {\n",
       "        text-align: right;\n",
       "    }\n",
       "</style>\n",
       "<table border=\"1\" class=\"dataframe\">\n",
       "  <thead>\n",
       "    <tr style=\"text-align: right;\">\n",
       "      <th></th>\n",
       "      <th>Serial No.</th>\n",
       "      <th>GRE Score</th>\n",
       "      <th>TOEFL Score</th>\n",
       "      <th>University Rating</th>\n",
       "      <th>SOP</th>\n",
       "      <th>LOR</th>\n",
       "      <th>CGPA</th>\n",
       "      <th>Research</th>\n",
       "      <th>Chance of Admit</th>\n",
       "    </tr>\n",
       "    <tr>\n",
       "      <th>Serial No.</th>\n",
       "      <th></th>\n",
       "      <th></th>\n",
       "      <th></th>\n",
       "      <th></th>\n",
       "      <th></th>\n",
       "      <th></th>\n",
       "      <th></th>\n",
       "      <th></th>\n",
       "      <th></th>\n",
       "    </tr>\n",
       "  </thead>\n",
       "  <tbody>\n",
       "    <tr>\n",
       "      <th>1</th>\n",
       "      <td>1</td>\n",
       "      <td>337</td>\n",
       "      <td>118</td>\n",
       "      <td>4</td>\n",
       "      <td>4.5</td>\n",
       "      <td>4.5</td>\n",
       "      <td>9.65</td>\n",
       "      <td>1</td>\n",
       "      <td>0.92</td>\n",
       "    </tr>\n",
       "    <tr>\n",
       "      <th>2</th>\n",
       "      <td>2</td>\n",
       "      <td>316</td>\n",
       "      <td>104</td>\n",
       "      <td>3</td>\n",
       "      <td>3.0</td>\n",
       "      <td>3.5</td>\n",
       "      <td>8.00</td>\n",
       "      <td>1</td>\n",
       "      <td>0.72</td>\n",
       "    </tr>\n",
       "    <tr>\n",
       "      <th>3</th>\n",
       "      <td>3</td>\n",
       "      <td>322</td>\n",
       "      <td>110</td>\n",
       "      <td>3</td>\n",
       "      <td>3.5</td>\n",
       "      <td>2.5</td>\n",
       "      <td>8.67</td>\n",
       "      <td>1</td>\n",
       "      <td>0.80</td>\n",
       "    </tr>\n",
       "    <tr>\n",
       "      <th>4</th>\n",
       "      <td>4</td>\n",
       "      <td>314</td>\n",
       "      <td>103</td>\n",
       "      <td>2</td>\n",
       "      <td>2.0</td>\n",
       "      <td>3.0</td>\n",
       "      <td>8.21</td>\n",
       "      <td>0</td>\n",
       "      <td>0.65</td>\n",
       "    </tr>\n",
       "    <tr>\n",
       "      <th>5</th>\n",
       "      <td>5</td>\n",
       "      <td>330</td>\n",
       "      <td>115</td>\n",
       "      <td>5</td>\n",
       "      <td>4.5</td>\n",
       "      <td>3.0</td>\n",
       "      <td>9.34</td>\n",
       "      <td>1</td>\n",
       "      <td>0.90</td>\n",
       "    </tr>\n",
       "    <tr>\n",
       "      <th>...</th>\n",
       "      <td>...</td>\n",
       "      <td>...</td>\n",
       "      <td>...</td>\n",
       "      <td>...</td>\n",
       "      <td>...</td>\n",
       "      <td>...</td>\n",
       "      <td>...</td>\n",
       "      <td>...</td>\n",
       "      <td>...</td>\n",
       "    </tr>\n",
       "    <tr>\n",
       "      <th>381</th>\n",
       "      <td>381</td>\n",
       "      <td>324</td>\n",
       "      <td>110</td>\n",
       "      <td>3</td>\n",
       "      <td>3.5</td>\n",
       "      <td>3.5</td>\n",
       "      <td>9.04</td>\n",
       "      <td>1</td>\n",
       "      <td>0.82</td>\n",
       "    </tr>\n",
       "    <tr>\n",
       "      <th>382</th>\n",
       "      <td>382</td>\n",
       "      <td>325</td>\n",
       "      <td>107</td>\n",
       "      <td>3</td>\n",
       "      <td>3.0</td>\n",
       "      <td>3.5</td>\n",
       "      <td>9.11</td>\n",
       "      <td>1</td>\n",
       "      <td>0.84</td>\n",
       "    </tr>\n",
       "    <tr>\n",
       "      <th>383</th>\n",
       "      <td>383</td>\n",
       "      <td>330</td>\n",
       "      <td>116</td>\n",
       "      <td>4</td>\n",
       "      <td>5.0</td>\n",
       "      <td>4.5</td>\n",
       "      <td>9.45</td>\n",
       "      <td>1</td>\n",
       "      <td>0.91</td>\n",
       "    </tr>\n",
       "    <tr>\n",
       "      <th>384</th>\n",
       "      <td>384</td>\n",
       "      <td>312</td>\n",
       "      <td>103</td>\n",
       "      <td>3</td>\n",
       "      <td>3.5</td>\n",
       "      <td>4.0</td>\n",
       "      <td>8.78</td>\n",
       "      <td>0</td>\n",
       "      <td>0.67</td>\n",
       "    </tr>\n",
       "    <tr>\n",
       "      <th>385</th>\n",
       "      <td>385</td>\n",
       "      <td>333</td>\n",
       "      <td>117</td>\n",
       "      <td>4</td>\n",
       "      <td>5.0</td>\n",
       "      <td>4.0</td>\n",
       "      <td>9.66</td>\n",
       "      <td>1</td>\n",
       "      <td>0.95</td>\n",
       "    </tr>\n",
       "  </tbody>\n",
       "</table>\n",
       "<p>385 rows × 9 columns</p>\n",
       "</div>"
      ],
      "text/plain": [
       "            Serial No.  GRE Score  TOEFL Score  University Rating  SOP  LOR   \\\n",
       "Serial No.                                                                     \n",
       "1                    1        337          118                  4  4.5   4.5   \n",
       "2                    2        316          104                  3  3.0   3.5   \n",
       "3                    3        322          110                  3  3.5   2.5   \n",
       "4                    4        314          103                  2  2.0   3.0   \n",
       "5                    5        330          115                  5  4.5   3.0   \n",
       "...                ...        ...          ...                ...  ...   ...   \n",
       "381                381        324          110                  3  3.5   3.5   \n",
       "382                382        325          107                  3  3.0   3.5   \n",
       "383                383        330          116                  4  5.0   4.5   \n",
       "384                384        312          103                  3  3.5   4.0   \n",
       "385                385        333          117                  4  5.0   4.0   \n",
       "\n",
       "            CGPA  Research  Chance of Admit   \n",
       "Serial No.                                    \n",
       "1           9.65         1              0.92  \n",
       "2           8.00         1              0.72  \n",
       "3           8.67         1              0.80  \n",
       "4           8.21         0              0.65  \n",
       "5           9.34         1              0.90  \n",
       "...          ...       ...               ...  \n",
       "381         9.04         1              0.82  \n",
       "382         9.11         1              0.84  \n",
       "383         9.45         1              0.91  \n",
       "384         8.78         0              0.67  \n",
       "385         9.66         1              0.95  \n",
       "\n",
       "[385 rows x 9 columns]"
      ]
     },
     "execution_count": 29,
     "metadata": {},
     "output_type": "execute_result"
    }
   ],
   "source": [
    "# your code here\n",
    "admissions.set_index('Serial No.', drop=False, inplace=True)\n",
    "admissions"
   ]
  },
  {
   "cell_type": "markdown",
   "metadata": {},
   "source": [
    "Turns out that `GRE Score` and `CGPA` also uniquely identify the data. Show this in the cell below."
   ]
  },
  {
   "cell_type": "code",
   "execution_count": 44,
   "metadata": {},
   "outputs": [
    {
     "name": "stdout",
     "output_type": "stream",
     "text": [
      "[(337.0, 9.65) (316.0, 8.0) (322.0, 8.67) (314.0, 8.21) (330.0, 9.34)\n",
      " (321.0, 8.2) (308.0, 7.9) (302.0, 8.0) (323.0, 8.6) (327.0, 9.0)\n",
      " (328.0, 9.1) (307.0, 8.0) (311.0, 8.2) (314.0, 8.3) (317.0, 8.7)\n",
      " (319.0, 8.0) (318.0, 8.8) (303.0, 8.5) (325.0, 8.4) (328.0, 9.5)\n",
      " (334.0, 9.7) (336.0, 9.8) (322.0, 8.8) (298.0, 7.5) (295.0, 7.2)\n",
      " (310.0, 7.3) (300.0, 8.1) (327.0, 8.3) (338.0, 9.4) (340.0, 9.6)\n",
      " (331.0, 9.8) (320.0, 9.2) (299.0, 8.4) (300.0, 7.8) (304.0, 7.5)\n",
      " (307.0, 7.7) (308.0, 8.0) (316.0, 8.2) (313.0, 8.5) (332.0, 9.1)\n",
      " (326.0, 9.4) (322.0, 9.1) (329.0, 9.3) (339.0, 9.7) (321.0, 8.85)\n",
      " (327.0, 8.4) (313.0, 8.3) (312.0, 7.9) (334.0, 8.0) (324.0, 8.1)\n",
      " (322.0, 8.0) (320.0, 7.7) (316.0, 7.4) (298.0, 7.6) (300.0, 6.8)\n",
      " (311.0, 8.3) (309.0, 8.1) (307.0, 8.2) (304.0, 8.2) (315.0, 8.5)\n",
      " (325.0, 8.7) (325.0, 8.92) (327.0, 9.02) (316.0, 8.64) (318.0, 9.22)\n",
      " (328.0, 9.16) (332.0, 9.64) (336.0, 9.76) (321.0, 9.45) (314.0, 9.04)\n",
      " (314.0, 8.9) (329.0, 8.56) (327.0, 8.72) (301.0, 8.22) (296.0, 7.54)\n",
      " (294.0, 7.36) (312.0, 8.02) (340.0, 9.5) (320.0, 9.22) (322.0, 9.36)\n",
      " (340.0, 9.45) (319.0, 8.66) (315.0, 8.42) (317.0, 8.28) (314.0, 8.14)\n",
      " (318.0, 7.92) (299.0, 7.66) (298.0, 8.03) (301.0, 7.88) (303.0, 7.66)\n",
      " (304.0, 7.84) (306.0, 8.0) (331.0, 8.96) (332.0, 9.24) (323.0, 8.88)\n",
      " (322.0, 8.46) (312.0, 8.12) (314.0, 8.25) (317.0, 8.47) (326.0, 9.05)\n",
      " (316.0, 8.78) (329.0, 9.18) (338.0, 9.46) (331.0, 9.38) (304.0, 8.64)\n",
      " (305.0, 8.48) (321.0, 8.68) (301.0, 8.34) (320.0, 8.56) (311.0, 8.45)\n",
      " (310.0, 9.04) (299.0, 8.62) (290.0, 7.46) (296.0, 7.28) (327.0, 8.84)\n",
      " (335.0, 9.56) (334.0, 9.48) (310.0, 8.36) (308.0, 8.22) (301.0, 8.47)\n",
      " (300.0, 8.66) (323.0, 9.32) (319.0, 8.71) (326.0, 9.1) (333.0, 9.35)\n",
      " (339.0, 9.76) (303.0, 8.65) (323.0, 8.78) (333.0, 9.28) (314.0, 8.77)\n",
      " (316.0, 8.16) (326.0, 9.08) (318.0, 9.12) (329.0, 9.15) (332.0, 9.36)\n",
      " (331.0, 9.44) (340.0, 9.92) (325.0, 8.96) (320.0, 8.64) (315.0, 8.48)\n",
      " (326.0, 9.11) (339.0, 9.8) (311.0, 8.26) (334.0, 9.43) (332.0, 9.28)\n",
      " (321.0, 9.06) (324.0, 8.75) (326.0, 8.89) (312.0, 8.69) (315.0, 8.34)\n",
      " (309.0, 8.26) (306.0, 8.14) (297.0, 7.9) (315.0, 7.86) (298.0, 7.46)\n",
      " (318.0, 8.5) (317.0, 8.56) (329.0, 9.01) (322.0, 8.97) (302.0, 8.33)\n",
      " (313.0, 8.27) (293.0, 7.8) (311.0, 7.98) (312.0, 8.04) (334.0, 9.07)\n",
      " (322.0, 9.13) (323.0, 9.23) (321.0, 8.97) (320.0, 8.87) (329.0, 9.16)\n",
      " (319.0, 9.04) (309.0, 8.12) (307.0, 8.27) (300.0, 8.16) (305.0, 8.42)\n",
      " (299.0, 7.88) (314.0, 8.8) (327.0, 9.11) (317.0, 8.68) (335.0, 9.44)\n",
      " (331.0, 9.36) (324.0, 9.16) (323.0, 8.98) (322.0, 8.94) (336.0, 9.53)\n",
      " (316.0, 8.76) (307.0, 8.52) (306.0, 8.26) (310.0, 8.33) (313.0, 8.69)\n",
      " (317.0, 8.54) (315.0, 8.46) (340.0, 9.91) (334.0, 9.87) (298.0, 8.54)\n",
      " (295.0, 7.65) (315.0, 7.89) (310.0, 8.02) (305.0, 8.16) (301.0, 8.12)\n",
      " (325.0, 9.06) (328.0, 9.14) (338.0, 9.66) (333.0, 9.78) (331.0, 9.42)\n",
      " (330.0, 9.36) (322.0, 9.26) (321.0, 9.13) (324.0, 8.97) (312.0, 8.42)\n",
      " (313.0, 8.75) (316.0, 8.56) (308.0, 8.45) (305.0, 8.23) (296.0, 8.03)\n",
      " (306.0, 8.45) (318.0, 8.67) (324.0, 9.01) (313.0, 8.65) (319.0, 8.33)\n",
      " (312.0, 8.27) (304.0, 8.07) (330.0, 9.31) (326.0, 9.23) (325.0, 9.17)\n",
      " (329.0, 9.19) (310.0, 8.37) (299.0, 7.89) (296.0, 7.68) (317.0, 8.15)\n",
      " (324.0, 8.76) (325.0, 9.04) (314.0, 8.56) (328.0, 9.02) (316.0, 8.73)\n",
      " (311.0, 8.48) (324.0, 8.87) (321.0, 8.83) (320.0, 8.57) (316.0, 9.0)\n",
      " (318.0, 8.54) (335.0, 9.68) (321.0, 9.12) (307.0, 8.37) (309.0, 8.56)\n",
      " (324.0, 8.64) (331.0, 9.34) (327.0, 9.13) (312.0, 8.09) (308.0, 8.36)\n",
      " (324.0, 8.79) (325.0, 8.76) (313.0, 8.68) (312.0, 8.45) (314.0, 8.17)\n",
      " (327.0, 9.14) (308.0, 8.34) (306.0, 8.22) (299.0, 7.86) (294.0, 7.64)\n",
      " (312.0, 8.01) (315.0, 7.95) (322.0, 8.96) (329.0, 9.45) (320.0, 8.62)\n",
      " (308.0, 8.49) (304.0, 8.73) (311.0, 8.64) (317.0, 9.11) (312.0, 8.79)\n",
      " (321.0, 8.9) (340.0, 9.66) (331.0, 9.26) (336.0, 9.19) (324.0, 9.08)\n",
      " (314.0, 9.02) (313.0, 9.0) (307.0, 7.65) (300.0, 7.87) (302.0, 7.97)\n",
      " (312.0, 8.18) (316.0, 8.32) (317.0, 8.57) (310.0, 8.67) (320.0, 9.11)\n",
      " (330.0, 9.24) (305.0, 8.65) (309.0, 8.0) (319.0, 8.76) (322.0, 8.45)\n",
      " (323.0, 8.55) (313.0, 8.43) (321.0, 8.8) (323.0, 9.1) (325.0, 9.0)\n",
      " (312.0, 8.53) (308.0, 8.6) (320.0, 8.74) (328.0, 9.18) (311.0, 9.0)\n",
      " (301.0, 8.04) (308.0, 8.07) (298.0, 7.86) (300.0, 8.01) (324.0, 8.8)\n",
      " (327.0, 8.69) (317.0, 8.5) (323.0, 8.44) (314.0, 8.27) (305.0, 8.18)\n",
      " (315.0, 8.33) (326.0, 9.14) (299.0, 8.02) (295.0, 7.86) (324.0, 8.77)\n",
      " (297.0, 7.89) (327.0, 8.66) (311.0, 8.12) (308.0, 8.21) (319.0, 8.54)\n",
      " (312.0, 8.65) (319.0, 8.79) (332.0, 9.47) (323.0, 8.74) (324.0, 8.66)\n",
      " (312.0, 8.46) (326.0, 8.76) (308.0, 8.24) (305.0, 8.13) (295.0, 7.34)\n",
      " (316.0, 7.43) (304.0, 7.64) (299.0, 7.34) (302.0, 7.25) (313.0, 8.04)\n",
      " (318.0, 8.27) (325.0, 8.67) (303.0, 8.06) (300.0, 8.17) (297.0, 7.67)\n",
      " (317.0, 8.12) (327.0, 8.77) (301.0, 7.89) (314.0, 7.64) (321.0, 8.44)\n",
      " (322.0, 8.64) (334.0, 9.54) (338.0, 9.23) (306.0, 8.36) (313.0, 8.9)\n",
      " (330.0, 9.17) (320.0, 8.34) (311.0, 7.46) (298.0, 7.88) (301.0, 8.03)\n",
      " (310.0, 8.24) (324.0, 9.22) (336.0, 9.62) (321.0, 8.54) (315.0, 7.65)\n",
      " (304.0, 7.66) (297.0, 7.43) (290.0, 7.56) (303.0, 7.65) (311.0, 8.43)\n",
      " (322.0, 8.84) (319.0, 8.67) (324.0, 9.15) (300.0, 8.26) (340.0, 9.74)\n",
      " (335.0, 9.82) (302.0, 7.96) (307.0, 8.1) (296.0, 7.8) (320.0, 8.44)\n",
      " (314.0, 8.24) (318.0, 8.65) (326.0, 9.12) (317.0, 8.76) (329.0, 9.23)\n",
      " (324.0, 9.04) (325.0, 9.11) (330.0, 9.45) (312.0, 8.78) (333.0, 9.66)]\n"
     ]
    }
   ],
   "source": [
    "unique = admissions[['GRE Score', 'CGPA']].apply(tuple, axis=1).unique()\n",
    "\n",
    "print(unique)"
   ]
  },
  {
   "cell_type": "markdown",
   "metadata": {},
   "source": [
    "### 3 - In this part of the lab, we would like to test complex conditions on the entire data set at once. Let's start by finding the number of rows where the CGPA is greater than 9 and the student has performed an investigation."
   ]
  },
  {
   "cell_type": "code",
   "execution_count": 31,
   "metadata": {
    "scrolled": true
   },
   "outputs": [
    {
     "name": "stdout",
     "output_type": "stream",
     "text": [
      "Number of rows 101\n"
     ]
    }
   ],
   "source": [
    "# your code here\n",
    "x = admissions[(admissions['CGPA'] > 9) & (admissions['Research'] == 1)]\n",
    "\n",
    "rows = x.shape[0]\n",
    "\n",
    "print(\"Number of rows:\", rows)"
   ]
  },
  {
   "cell_type": "markdown",
   "metadata": {},
   "source": [
    "### 4 - Now return all the rows where the CGPA is greater than 9 and the SOP score is less than 3.5. Find the mean chance of admit for these applicants."
   ]
  },
  {
   "cell_type": "code",
   "execution_count": 39,
   "metadata": {},
   "outputs": [
    {
     "name": "stdout",
     "output_type": "stream",
     "text": [
      "Mean Chance of Admit: 0.8019999999999999\n"
     ]
    }
   ],
   "source": [
    "# your code here\n",
    "y = admissions[(admissions['CGPA'] > 9) & (admissions['SOP'] < 3.5)]\n",
    "\n",
    "mean_y = y['Chance of Admit '].mean()\n",
    "\n",
    "print(\"Mean Chance of Admit:\", mean_y)"
   ]
  },
  {
   "cell_type": "code",
   "execution_count": null,
   "metadata": {},
   "outputs": [],
   "source": []
  }
 ],
 "metadata": {
  "kernelspec": {
   "display_name": "Python 3 (ipykernel)",
   "language": "python",
   "name": "python3"
  },
  "language_info": {
   "codemirror_mode": {
    "name": "ipython",
    "version": 3
   },
   "file_extension": ".py",
   "mimetype": "text/x-python",
   "name": "python",
   "nbconvert_exporter": "python",
   "pygments_lexer": "ipython3",
   "version": "3.11.5"
  },
  "toc": {
   "base_numbering": "",
   "nav_menu": {},
   "number_sections": false,
   "sideBar": true,
   "skip_h1_title": false,
   "title_cell": "Table of Contents",
   "title_sidebar": "Contents",
   "toc_cell": false,
   "toc_position": {},
   "toc_section_display": true,
   "toc_window_display": true
  }
 },
 "nbformat": 4,
 "nbformat_minor": 2
}
